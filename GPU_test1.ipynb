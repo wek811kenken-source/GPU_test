{
  "nbformat": 4,
  "nbformat_minor": 0,
  "metadata": {
    "colab": {
      "provenance": [],
      "gpuType": "T4"
    },
    "kernelspec": {
      "name": "python3",
      "display_name": "Python 3"
    },
    "language_info": {
      "name": "python"
    },
    "accelerator": "GPU"
  },
  "cells": [
    {
      "cell_type": "code",
      "source": [
        "%%writefile cuda_sin_test.cu\n",
        "\n",
        "#include <iostream>\n",
        "#include <cmath>\n",
        "#include <cuda.h>\n",
        "#include <cuda_runtime.h>\n",
        "#include <chrono>\n",
        "\n",
        "#define PI M_PI\n",
        "\n",
        "const size_t N = 1000000000ULL;\n",
        "\n",
        "template <typename T>\n",
        "__global__ void kernel_sin(T *arr, unsigned long long N) {\n",
        "    unsigned long long i = blockIdx.x * blockDim.x + threadIdx.x;\n",
        "    if (i < N)\n",
        "        arr[i] = sin((T)(i % 360) * PI / 180.0);\n",
        "}\n",
        "\n",
        "template <typename T>\n",
        "__global__ void kernel_sinf(T *arr, unsigned long long N) {\n",
        "    unsigned long long i = blockIdx.x * blockDim.x + threadIdx.x;\n",
        "    if (i < N)\n",
        "        arr[i] = sinf((T)(i % 360) * (T)PI / 180.0f);\n",
        "}\n",
        "\n",
        "template <typename T>\n",
        "__global__ void kernel___sinf(T *arr, unsigned long long N) {\n",
        "    unsigned long long i = blockIdx.x * blockDim.x + threadIdx.x;\n",
        "    if (i < N)\n",
        "        arr[i] = __sinf((T)(i % 360) * (T)PI / 180.0f);\n",
        "}\n",
        "\n",
        "template<typename T>\n",
        "T compute_error(const T* arr) {\n",
        "    T err = 0.0;\n",
        "    for (size_t i = 0; i < N; ++i) {\n",
        "        T ref = sin((i % 360) * PI / 180.0);\n",
        "        err += fabs(ref - (T)arr[i]);\n",
        "    }\n",
        "    return err / N;\n",
        "}\n",
        "\n",
        "template<typename T>\n",
        "void test() {\n",
        "    T *d_arr, *h_arr;\n",
        "    h_arr = new T[N];\n",
        "    cudaMalloc(&d_arr, N * sizeof(T));\n",
        "\n",
        "    dim3 block(256);\n",
        "    dim3 grid((N + block.x - 1) / block.x);\n",
        "\n",
        "    {\n",
        "        std::cout << \"Running sin() ...\" << std::endl;\n",
        "        auto start = std::chrono::steady_clock::now();\n",
        "        kernel_sin<<<grid, block>>>(d_arr, N);\n",
        "        cudaDeviceSynchronize();\n",
        "        auto stop = std::chrono::steady_clock::now();\n",
        "        cudaMemcpy(h_arr, d_arr, N * sizeof(T), cudaMemcpyDeviceToHost);\n",
        "        std::cout << \"Time: \"\n",
        "                  << std::chrono::duration_cast<std::chrono::milliseconds>(stop - start).count()\n",
        "                  << \" ms\" << std::endl;\n",
        "        double err = compute_error(h_arr);\n",
        "        std::cout << \"Average error: \" << err << std::endl << std::endl;\n",
        "    }\n",
        "\n",
        "    {\n",
        "        std::cout << \"Running sinf() ...\" << std::endl;\n",
        "        auto start = std::chrono::steady_clock::now();\n",
        "        kernel_sinf<<<grid, block>>>(d_arr, N);\n",
        "        cudaDeviceSynchronize();\n",
        "        auto stop = std::chrono::steady_clock::now();\n",
        "        cudaMemcpy(h_arr, d_arr, N * sizeof(T), cudaMemcpyDeviceToHost);\n",
        "        std::cout << \"Time: \"\n",
        "                  << std::chrono::duration_cast<std::chrono::milliseconds>(stop - start).count()\n",
        "                  << \" ms\" << std::endl;\n",
        "        double err = compute_error(h_arr);\n",
        "        std::cout << \"Average error: \" << err << std::endl << std::endl;\n",
        "    }\n",
        "\n",
        "    {\n",
        "        std::cout << \"Running __sinf() ...\" << std::endl;\n",
        "        auto start = std::chrono::steady_clock::now();\n",
        "        kernel___sinf<<<grid, block>>>(d_arr, N);\n",
        "        cudaDeviceSynchronize();\n",
        "        auto stop = std::chrono::steady_clock::now();\n",
        "        cudaMemcpy(h_arr, d_arr, N * sizeof(T), cudaMemcpyDeviceToHost);\n",
        "        std::cout << \"Time: \"\n",
        "                  << std::chrono::duration_cast<std::chrono::milliseconds>(stop - start).count()\n",
        "                  << \" ms\" << std::endl;\n",
        "        double err = compute_error(h_arr);\n",
        "        std::cout << \"Average error: \" << err << std::endl << std::endl;\n",
        "    }\n",
        "\n",
        "    cudaFree(d_arr);\n",
        "    delete[] h_arr;\n",
        "}\n",
        "\n",
        "int main() {\n",
        "    std::cout << \"=== CUDA Sine Accuracy Test ===\" << std::endl;\n",
        "    std::cout << \"Elements count: \" << N << std::endl;\n",
        "\n",
        "    std::cout << \"\\n--- FLOAT MODE ---\" << std::endl;\n",
        "    test<float>();\n",
        "    std::cout << \"\\n--- DOUBLE MODE ---\" << std::endl;\n",
        "    test<double>();\n",
        "\n",
        "    std::cout << \"\\nExperiment completed.\" << std::endl;\n",
        "    return 0;\n",
        "}\n"
      ],
      "metadata": {
        "colab": {
          "base_uri": "https://localhost:8080/"
        },
        "id": "0o5wxoKUItJ4",
        "outputId": "d4a906c7-ccbe-45dc-c512-1ed5e3afa6bf"
      },
      "execution_count": 1,
      "outputs": [
        {
          "output_type": "stream",
          "name": "stdout",
          "text": [
            "Writing cuda_sin_test.cu\n"
          ]
        }
      ]
    },
    {
      "cell_type": "code",
      "source": [
        "!nvcc -arch=sm_75 --use_fast_math cuda_sin_test.cu -o cuda_sin_test\n",
        "!./cuda_sin_test"
      ],
      "metadata": {
        "colab": {
          "base_uri": "https://localhost:8080/"
        },
        "id": "IVVWiMraLGhH",
        "outputId": "45bed08c-5e66-4837-8ed7-16725d702073"
      },
      "execution_count": 2,
      "outputs": [
        {
          "output_type": "stream",
          "name": "stdout",
          "text": [
            "=== CUDA Sine Accuracy Test ===\n",
            "Elements count: 1000000000\n",
            "\n",
            "--- FLOAT MODE ---\n",
            "Running sin() ...\n",
            "Time: 434 ms\n",
            "Average error: 0\n",
            "\n",
            "Running sinf() ...\n",
            "Time: 16 ms\n",
            "Average error: 1.6e-08\n",
            "\n",
            "Running __sinf() ...\n",
            "Time: 16 ms\n",
            "Average error: 1.6e-08\n",
            "\n",
            "\n",
            "--- DOUBLE MODE ---\n",
            "Running sin() ...\n",
            "Time: 337 ms\n",
            "Average error: 8.77963e-18\n",
            "\n",
            "Running sinf() ...\n",
            "Time: 258 ms\n",
            "Average error: 1.30149e-07\n",
            "\n",
            "Running __sinf() ...\n",
            "Time: 287 ms\n",
            "Average error: 1.30149e-07\n",
            "\n",
            "\n",
            "Experiment completed.\n"
          ]
        }
      ]
    },
    {
      "cell_type": "code",
      "source": [
        "!nvidia-smi"
      ],
      "metadata": {
        "colab": {
          "base_uri": "https://localhost:8080/"
        },
        "id": "awPKQV4fLJSp",
        "outputId": "fbcf7c12-e8b8-4d7b-9add-8df6c470e360"
      },
      "execution_count": 3,
      "outputs": [
        {
          "output_type": "stream",
          "name": "stdout",
          "text": [
            "Tue Oct 14 15:15:49 2025       \n",
            "+-----------------------------------------------------------------------------------------+\n",
            "| NVIDIA-SMI 550.54.15              Driver Version: 550.54.15      CUDA Version: 12.4     |\n",
            "|-----------------------------------------+------------------------+----------------------+\n",
            "| GPU  Name                 Persistence-M | Bus-Id          Disp.A | Volatile Uncorr. ECC |\n",
            "| Fan  Temp   Perf          Pwr:Usage/Cap |           Memory-Usage | GPU-Util  Compute M. |\n",
            "|                                         |                        |               MIG M. |\n",
            "|=========================================+========================+======================|\n",
            "|   0  Tesla T4                       Off |   00000000:00:04.0 Off |                    0 |\n",
            "| N/A   67C    P8             12W /   70W |       0MiB /  15360MiB |      0%      Default |\n",
            "|                                         |                        |                  N/A |\n",
            "+-----------------------------------------+------------------------+----------------------+\n",
            "                                                                                         \n",
            "+-----------------------------------------------------------------------------------------+\n",
            "| Processes:                                                                              |\n",
            "|  GPU   GI   CI        PID   Type   Process name                              GPU Memory |\n",
            "|        ID   ID                                                               Usage      |\n",
            "|=========================================================================================|\n",
            "|  No running processes found                                                             |\n",
            "+-----------------------------------------------------------------------------------------+\n"
          ]
        }
      ]
    },
    {
      "cell_type": "code",
      "source": [
        "%%writefile cuda_specs.cu\n",
        "\n",
        "#include <iostream>\n",
        "#include <cuda_runtime.h>\n",
        "\n",
        "int main() {\n",
        "    int deviceCount;\n",
        "    cudaGetDeviceCount(&deviceCount); // Get the number of CUDA-capable devices\n",
        "\n",
        "    if (deviceCount == 0) {\n",
        "        std::cerr << \"No CUDA devices found.\" << std::endl;\n",
        "        return 1;\n",
        "    }\n",
        "\n",
        "    for (int i = 0; i < deviceCount; ++i) {\n",
        "        cudaDeviceProp prop{}; // Initialize a cudaDeviceProp structure\n",
        "        cudaGetDeviceProperties(&prop, i); // Get properties for device 'i'\n",
        "\n",
        "        std::cout << \"--- Device Number: \" << i << \" ---\" << std::endl;\n",
        "        std::cout << \"  Device Name: \" << prop.name << std::endl;\n",
        "        std::cout << \"  Compute Capability: \" << prop.major << \".\" << prop.minor << std::endl;\n",
        "        std::cout << \"  Total Global Memory (bytes): \" << prop.totalGlobalMem << std::endl;\n",
        "        std::cout << \"  Max Threads per Block: \" << prop.maxThreadsPerBlock << std::endl;\n",
        "        std::cout << \"  Multiprocessor Count: \" << prop.multiProcessorCount << std::endl;\n",
        "        std::cout << \"  Clock Rate (kHz): \" << prop.clockRate << std::endl;\n",
        "        std::cout << \"  Shared Memory per Block (bytes): \" << prop.sharedMemPerBlock << std::endl;\n",
        "        std::cout << \"  Warp Size: \" << prop.warpSize << std::endl;\n",
        "        std::cout << \"  ECC Enabled: \" << (prop.ECCEnabled ? \"Yes\" : \"No\") << std::endl;\n",
        "        std::cout << std::endl;\n",
        "    }\n",
        "\n",
        "    return 0;\n",
        "}"
      ],
      "metadata": {
        "colab": {
          "base_uri": "https://localhost:8080/"
        },
        "id": "mnLpeGRuMLhf",
        "outputId": "283dc787-e874-4c0d-a83b-7a15606645a2"
      },
      "execution_count": 4,
      "outputs": [
        {
          "output_type": "stream",
          "name": "stdout",
          "text": [
            "Writing cuda_specs.cu\n"
          ]
        }
      ]
    },
    {
      "cell_type": "code",
      "source": [
        "!nvcc -arch=sm_75 cuda_specs.cu -o cuda_specs\n",
        "!./cuda_specs"
      ],
      "metadata": {
        "colab": {
          "base_uri": "https://localhost:8080/"
        },
        "id": "resRGkWbMQ2y",
        "outputId": "60a29d3c-ca72-4de7-8e86-3d4f5df4eeb8"
      },
      "execution_count": 5,
      "outputs": [
        {
          "output_type": "stream",
          "name": "stdout",
          "text": [
            "--- Device Number: 0 ---\n",
            "  Device Name: Tesla T4\n",
            "  Compute Capability: 7.5\n",
            "  Total Global Memory (bytes): 15828320256\n",
            "  Max Threads per Block: 1024\n",
            "  Multiprocessor Count: 40\n",
            "  Clock Rate (kHz): 1590000\n",
            "  Shared Memory per Block (bytes): 49152\n",
            "  Warp Size: 32\n",
            "  ECC Enabled: Yes\n",
            "\n"
          ]
        }
      ]
    },
    {
      "cell_type": "code",
      "source": [],
      "metadata": {
        "id": "7R54qv_rMVOf"
      },
      "execution_count": null,
      "outputs": []
    }
  ]
}